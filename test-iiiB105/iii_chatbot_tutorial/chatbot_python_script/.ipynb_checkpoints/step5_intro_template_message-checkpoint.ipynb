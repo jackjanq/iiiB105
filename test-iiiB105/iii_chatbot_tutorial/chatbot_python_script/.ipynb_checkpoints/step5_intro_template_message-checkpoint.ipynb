{
 "cells": [
  {
   "cell_type": "code",
   "execution_count": 1,
   "metadata": {},
   "outputs": [
    {
     "name": "stderr",
     "output_type": "stream",
     "text": [
      " * Running on http://0.0.0.0:5000/ (Press CTRL+C to quit)\n",
      "172.17.0.1 - - [01/May/2017 12:02:22] \"POST / HTTP/1.1\" 200 -\n"
     ]
    }
   ],
   "source": [
    "from flask import Flask, request, abort\n",
    "\n",
    "from linebot import (\n",
    "    LineBotApi, WebhookHandler\n",
    ")\n",
    "from linebot.exceptions import (\n",
    "    InvalidSignatureError\n",
    ")\n",
    "from linebot.models import (\n",
    "    MessageEvent, TextMessage, TextSendMessage, TemplateSendMessage\n",
    ")\n",
    "\n",
    "from linebot.models.template import (\n",
    "    ButtonsTemplate,PostbackTemplateAction,MessageTemplateAction,URITemplateAction\n",
    ")\n",
    "\n",
    "app = Flask(__name__,static_url_path = \"/images\" , static_folder = \"./images/\" )\n",
    "\n",
    "# create a instance for line\n",
    "# line_bot_api 用來處理消息\n",
    "line_bot_api = LineBotApi('YOUR_CHANNEL_ACCESS_TOKEN')\n",
    "\n",
    "# 用來接收外部消息\n",
    "handler = WebhookHandler('YOUR_CHANNEL_SECRET')\n",
    "\n",
    "@app.route(\"/\", methods=['POST'])\n",
    "def callback():\n",
    "    # get X-Line-Signature header value\n",
    "    signature = request.headers['X-Line-Signature']\n",
    "\n",
    "    # get request body as text\n",
    "    body = request.get_data(as_text=True)\n",
    "    app.logger.info(\"Request body: \" + body)\n",
    "\n",
    "    # handle webhook body 驗證封包是否來自Line\n",
    "    try:\n",
    "        handler.handle(body, signature)\n",
    "    except InvalidSignatureError:\n",
    "        abort(400)\n",
    "\n",
    "    return 'OK'\n",
    "    \n",
    "buttons_template_message = TemplateSendMessage(\n",
    "    alt_text='Buttons template',\n",
    "    template=ButtonsTemplate(\n",
    "        thumbnail_image_url='https://1db310cb.ap.ngrok.io/images/eddie.jpg',\n",
    "        title='Menu',\n",
    "        text='Please select',\n",
    "        actions=[\n",
    "            PostbackTemplateAction(\n",
    "                label='postback',\n",
    "                text='同時也可以讓用戶發送文字訊息',\n",
    "                data='action=buy&itemid=1'\n",
    "            ),\n",
    "            MessageTemplateAction(\n",
    "                label='message',\n",
    "                text='資策會聊天機器人'\n",
    "            ),\n",
    "            URITemplateAction(\n",
    "                label='uri',\n",
    "                uri='https://www.youtube.com/watch?v=uauzw00I0wY'\n",
    "            )\n",
    "        ]\n",
    "    )\n",
    ")\n",
    "    \n",
    "@handler.add(MessageEvent, message=TextMessage)\n",
    "def handle_message(event):\n",
    "    line_bot_api.reply_message(\n",
    "        event.reply_token,\n",
    "        buttons_template_message)\n",
    "\n",
    "if __name__ == \"__main__\":\n",
    "    app.run(host='0.0.0.0')"
   ]
  },
  {
   "cell_type": "code",
   "execution_count": null,
   "metadata": {
    "collapsed": true
   },
   "outputs": [],
   "source": []
  }
 ],
 "metadata": {
  "kernelspec": {
   "display_name": "Python 3",
   "language": "python",
   "name": "python3"
  },
  "language_info": {
   "codemirror_mode": {
    "name": "ipython",
    "version": 3
   },
   "file_extension": ".py",
   "mimetype": "text/x-python",
   "name": "python",
   "nbconvert_exporter": "python",
   "pygments_lexer": "ipython3",
   "version": "3.5.2"
  }
 },
 "nbformat": 4,
 "nbformat_minor": 2
}
