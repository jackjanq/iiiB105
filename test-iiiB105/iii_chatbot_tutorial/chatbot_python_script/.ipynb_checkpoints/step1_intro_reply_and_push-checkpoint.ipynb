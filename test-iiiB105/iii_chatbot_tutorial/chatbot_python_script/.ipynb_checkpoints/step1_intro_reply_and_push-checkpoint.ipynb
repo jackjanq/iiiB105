{
 "cells": [
  {
   "cell_type": "code",
   "execution_count": null,
   "metadata": {
    "collapsed": true
   },
   "outputs": [],
   "source": [
    "from flask import Flask, request, abort\n",
    "\n",
    "from linebot import (\n",
    "    LineBotApi, WebhookHandler\n",
    ")\n",
    "from linebot.exceptions import (\n",
    "    InvalidSignatureError\n",
    ")\n",
    "from linebot.models import (\n",
    "    MessageEvent, TextMessage, TextSendMessage,JoinEvent,FollowEvent\n",
    ")\n",
    "\n",
    "from linebot.models.template import (\n",
    "    ButtonsTemplate,PostbackTemplateAction,MessageTemplateAction,URITemplateAction\n",
    ")\n",
    "\n",
    "app = Flask(__name__,static_url_path = \"/images\" , static_folder = \"./images/\" )\n",
    "\n",
    "# create a instance for line\n",
    "# line_bot_api 用來處理消息\n",
    "line_bot_api = LineBotApi('J7c0W/scg79yTRnS2BOihOTgojidCYt6+7Ljt91hefHr0IQ+V+COCzMEq2b4kU1mEe5XfRXy/5PyGINY9lhrbTrtYPA3HlOF1xF9D8nlny1C1ZGCyXo0V6/Fhj3/OItSrhwjwfxy/JD2gvnnW/uyGwdB04t89/1O/w1cDnyilFU=')\n",
    "\n",
    "# 用來接收外部消息\n",
    "handler = WebhookHandler('01ad476e2e5167c04941609ef5fdde8b')\n",
    "\n",
    "@app.route(\"/callback\", methods=['POST'])\n",
    "def callback():\n",
    "    # get X-Line-Signature header value\n",
    "    signature = request.headers['X-Line-Signature']\n",
    "\n",
    "    # get request body as text\n",
    "    body = request.get_data(as_text=True)\n",
    "    app.logger.info(\"Request body: \" + body)\n",
    "\n",
    "    # handle webhook body 驗證封包是否來自Line\n",
    "    try:\n",
    "        handler.handle(body, signature)\n",
    "    except InvalidSignatureError:\n",
    "        abort(400)\n",
    "\n",
    "    return 'OK'\n",
    "\n",
    "\n",
    "    \n",
    "@handler.add(FollowEvent)\n",
    "def handle_join_event(event):\n",
    "    app.logger.info(\"ddd\")\n",
    "    profile = line_bot_api.get_profile(event.source.user_id)\n",
    "    profileContent = profile.display_name + '\\n' + profile.user_id + '\\n' + profile.status_message\n",
    "    line_bot_api.reply_message(\n",
    "        event.reply_token,\n",
    "        TextSendMessage(text=profileContent))        \n",
    "        \n",
    "if __name__ == \"__main__\":\n",
    "    app.run(host='0.0.0.0')"
   ]
  }
 ],
 "metadata": {
  "kernelspec": {
   "display_name": "Python 3",
   "language": "python",
   "name": "python3"
  },
  "language_info": {
   "codemirror_mode": {
    "name": "ipython",
    "version": 3
   },
   "file_extension": ".py",
   "mimetype": "text/x-python",
   "name": "python",
   "nbconvert_exporter": "python",
   "pygments_lexer": "ipython3",
   "version": "3.5.2"
  }
 },
 "nbformat": 4,
 "nbformat_minor": 2
}
